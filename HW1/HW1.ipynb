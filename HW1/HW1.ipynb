{
 "cells": [
  {
   "cell_type": "code",
   "execution_count": 1,
   "metadata": {},
   "outputs": [
    {
     "name": "stdout",
     "output_type": "stream",
     "text": [
      "1. 1번째 n자리 정수 출력\n",
      "n자리 자연수를 입력하세요: 3138\n",
      "2. 2번째 n자리 정수 출력\n",
      "n자리 자연수를 입력하세요: -11111\n",
      "3. 곱셈 결과 출력\n",
      "      3138\n",
      "X   -11111\n",
      "------------\n",
      "      3138\n",
      "     3138\n",
      "    3138\n",
      "   3138\n",
      "  3138\n",
      "------------\n",
      " -34866318\n"
     ]
    }
   ],
   "source": [
    "num1=0\n",
    "num2=0\n",
    "\n",
    "def input_num():\n",
    "    \n",
    "    while True:\n",
    "        try:\n",
    "            num = int(input(\"n자리 자연수를 입력하세요: \"))\n",
    "            break\n",
    "        except ValueError:\n",
    "            print(\"정수만 입력하세요\")\n",
    "    return int(num)\n",
    "\n",
    "def mul(num1, num2):\n",
    "    multi=num1*num2\n",
    "    space=int(10)\n",
    "    \n",
    "    print(\"%10s\"%num1)\n",
    "    print(\"X%9s\"%num2)\n",
    "    print(\"------------\")\n",
    "    num1=abs(num1) \n",
    "    num2=abs(num2)\n",
    "    \n",
    "    num1=str(num1) \n",
    "    num2=str(num2)\n",
    "    \n",
    "    for i in  reversed(num2):\n",
    "        result=int(num1)*int(i)\n",
    "        result=str(result)\n",
    "        print(\"%s\"%result.rjust(space))\n",
    "        space-=1\n",
    "    print(\"------------\")\n",
    "    print(\"%10s\"%multi)\n",
    "    \n",
    "print(\"1. 1번째 n자리 정수 출력\")\n",
    "num1=input_num()\n",
    "\n",
    "print(\"2. 2번째 n자리 정수 출력\")\n",
    "num2=input_num()\n",
    "\n",
    "print(\"3. 곱셈 결과 출력\")\n",
    "mul(num1, num2)"
   ]
  }
 ],
 "metadata": {
  "kernelspec": {
   "display_name": "Python 3",
   "language": "python",
   "name": "python3"
  },
  "language_info": {
   "codemirror_mode": {
    "name": "ipython",
    "version": 3
   },
   "file_extension": ".py",
   "mimetype": "text/x-python",
   "name": "python",
   "nbconvert_exporter": "python",
   "pygments_lexer": "ipython3",
   "version": "3.8.3"
  }
 },
 "nbformat": 4,
 "nbformat_minor": 4
}
