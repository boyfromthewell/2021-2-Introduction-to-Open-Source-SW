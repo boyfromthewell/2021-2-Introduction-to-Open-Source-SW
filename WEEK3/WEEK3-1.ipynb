{
 "cells": [
  {
   "cell_type": "code",
   "execution_count": 5,
   "metadata": {},
   "outputs": [
    {
     "name": "stdout",
     "output_type": "stream",
     "text": [
      "7\n",
      "7\n"
     ]
    }
   ],
   "source": [
    "'''\n",
    "Python Functions\n",
    "\n",
    "def name(parameters):\n",
    "    statement 1\n",
    "    statement 2\n",
    "'''\n",
    "def add(a,b):\n",
    "    return a+b\n",
    "\n",
    "a=3\n",
    "b=4\n",
    "c=add(a,b)\n",
    "print(c)\n",
    " \n",
    "def add(a,b): # a and b are parameters\n",
    "    return a+b\n",
    "\n",
    "print(add(3,4)) # 3, 4 are arguments"
   ]
  },
  {
   "cell_type": "code",
   "execution_count": 6,
   "metadata": {},
   "outputs": [
    {
     "name": "stdout",
     "output_type": "stream",
     "text": [
      "7\n"
     ]
    }
   ],
   "source": [
    "#입력값과 return 값 모두 갖고 있는 경우\n",
    "\n",
    "def add(a,b):\n",
    "    result=a+b\n",
    "    return result\n",
    "\n",
    "a=add(3,4)\n",
    "print(a)"
   ]
  },
  {
   "cell_type": "code",
   "execution_count": 8,
   "metadata": {},
   "outputs": [
    {
     "name": "stdout",
     "output_type": "stream",
     "text": [
      "HI\n"
     ]
    }
   ],
   "source": [
    "#입력값은 없지만 return 값 존재경우\n",
    "\n",
    "def say():\n",
    "    return 'HI'\n",
    "\n",
    "a=say()\n",
    "print(a)"
   ]
  },
  {
   "cell_type": "code",
   "execution_count": 10,
   "metadata": {},
   "outputs": [
    {
     "name": "stdout",
     "output_type": "stream",
     "text": [
      "3, 4의 합은 7 입니다.\n"
     ]
    }
   ],
   "source": [
    "#입력 값은 있지만 return 값 없는경우\n",
    "\n",
    "def add(a,b):\n",
    "    print(\"%d, %d의 합은 %d 입니다.\"%(a,b,a+b))\n",
    "    \n",
    "add(3,4)"
   ]
  },
  {
   "cell_type": "code",
   "execution_count": 11,
   "metadata": {},
   "outputs": [
    {
     "name": "stdout",
     "output_type": "stream",
     "text": [
      "hi\n"
     ]
    }
   ],
   "source": [
    "#입력값, return 값 없는 경우\n",
    "\n",
    "def say():\n",
    "    print('hi')\n",
    "    \n",
    "say()"
   ]
  },
  {
   "cell_type": "code",
   "execution_count": 13,
   "metadata": {},
   "outputs": [
    {
     "name": "stdout",
     "output_type": "stream",
     "text": [
      "10\n",
      "8\n"
     ]
    }
   ],
   "source": [
    "#keyword Arguments (kwargs)\n",
    "\n",
    "def add(a,b):\n",
    "    return a+b\n",
    "\n",
    "result=add(a=3, b=7)\n",
    "print(result)\n",
    "\n",
    "result=add(b=5, a=3)\n",
    "print(result) #순서 상관없이 argument 선언 가능"
   ]
  },
  {
   "cell_type": "code",
   "execution_count": 14,
   "metadata": {},
   "outputs": [
    {
     "name": "stdout",
     "output_type": "stream",
     "text": [
      "6\n",
      "55\n"
     ]
    }
   ],
   "source": [
    "# 입력값 정해저있지 않은경우 (*args)\n",
    "\n",
    "def add_many(*args):\n",
    "    result=0\n",
    "    for i in args:\n",
    "        result=result+i\n",
    "    return result\n",
    "\n",
    "result=add_many(1,2,3)\n",
    "print(result)\n",
    "\n",
    "result=add_many(1,2,3,4,5,6,7,8,9,10)\n",
    "print(result)"
   ]
  },
  {
   "cell_type": "code",
   "execution_count": 15,
   "metadata": {},
   "outputs": [
    {
     "name": "stdout",
     "output_type": "stream",
     "text": [
      "15\n",
      "120\n"
     ]
    }
   ],
   "source": [
    "#Arbitrary Arguments\n",
    "\n",
    "def add_mul(choice, *args):\n",
    "    if choice==\"add\":\n",
    "        result=0\n",
    "        for i in args:\n",
    "            result=result+i\n",
    "    elif choice==\"mul\":\n",
    "        result=1\n",
    "        for i in args:\n",
    "            result=result*i\n",
    "    return result\n",
    "\n",
    "result=add_mul('add', 1,2,3,4,5)\n",
    "print(result)\n",
    "\n",
    "result=add_mul('mul', 1,2,3,4,5)\n",
    "print(result)"
   ]
  },
  {
   "cell_type": "code",
   "execution_count": 18,
   "metadata": {},
   "outputs": [
    {
     "name": "stdout",
     "output_type": "stream",
     "text": [
      "{'a': 1}\n",
      "{'name': 'foo', 'age': 5}\n"
     ]
    }
   ],
   "source": [
    "#arbitary Keyword argument\n",
    "\n",
    "def print_kwargs(**kwargs):  #다수의 키워드 선언가능\n",
    "    print(kwargs)\n",
    "    \n",
    "print_kwargs(a=1)\n",
    "print_kwargs(name='foo', age=5)"
   ]
  },
  {
   "cell_type": "code",
   "execution_count": 19,
   "metadata": {},
   "outputs": [
    {
     "name": "stdout",
     "output_type": "stream",
     "text": [
      "his last name is refsnes\n"
     ]
    }
   ],
   "source": [
    "def my_func(**kid):\n",
    "    print(\"his last name is \"+kid[\"lname\"])\n",
    "my_func(fname=\"tobias\", lname=\"refsnes\")"
   ]
  },
  {
   "cell_type": "code",
   "execution_count": 21,
   "metadata": {},
   "outputs": [
    {
     "name": "stdout",
     "output_type": "stream",
     "text": [
      "(7, 12)\n",
      "7 12\n"
     ]
    }
   ],
   "source": [
    "#return values\n",
    "\n",
    "def add_and_mul(a,b):\n",
    "    return a+b, a*b\n",
    "\n",
    "result=add_and_mul(3,4)\n",
    "result1, result2=add_and_mul(3,4)\n",
    "print(result)\n",
    "print(result1, result2)"
   ]
  },
  {
   "cell_type": "code",
   "execution_count": 22,
   "metadata": {},
   "outputs": [
    {
     "name": "stdout",
     "output_type": "stream",
     "text": [
      "my name is soon-yong kwon.\n",
      "I am 26 years old.\n",
      "I am a man\n",
      "my name is soon-yong kwon.\n",
      "I am 26 years old.\n",
      "I am a man\n",
      "my name is yeon-kyeong kim.\n",
      "I am 26 years old.\n",
      "I am a woman\n"
     ]
    }
   ],
   "source": [
    "#default Parameter Value\n",
    "\n",
    "def say_myself(name, old, man=True):\n",
    "    print(\"my name is %s.\"%name)\n",
    "    print(\"I am %d years old.\"%old)\n",
    "    if man:\n",
    "        print(\"I am a man\")\n",
    "    else:\n",
    "        print(\"I am a woman\")\n",
    "        \n",
    "say_myself(\"soon-yong kwon\", 26)\n",
    "say_myself(\"soon-yong kwon\", 26, True)\n",
    "say_myself(\"yeon-kyeong kim\", 26, False)"
   ]
  },
  {
   "cell_type": "code",
   "execution_count": 23,
   "metadata": {},
   "outputs": [
    {
     "name": "stdout",
     "output_type": "stream",
     "text": [
      "7\n"
     ]
    }
   ],
   "source": [
    "#lambda\n",
    "\n",
    "add=lambda a, b:a+b\n",
    "result=add(3,4)\n",
    "print(result)"
   ]
  },
  {
   "cell_type": "code",
   "execution_count": 24,
   "metadata": {},
   "outputs": [
    {
     "name": "stdout",
     "output_type": "stream",
     "text": [
      "please enter a num: 3\n",
      "3\n"
     ]
    },
    {
     "data": {
      "text/plain": [
       "str"
      ]
     },
     "execution_count": 24,
     "metadata": {},
     "output_type": "execute_result"
    }
   ],
   "source": [
    "'''\n",
    "Input & Output\n",
    "'''\n",
    "\n",
    "number=input(\"please enter a num: \")\n",
    "print(number)\n",
    "type(number) #모든 입력받은 값은 string으로 취급"
   ]
  },
  {
   "cell_type": "code",
   "execution_count": 25,
   "metadata": {},
   "outputs": [
    {
     "name": "stdout",
     "output_type": "stream",
     "text": [
      "life is too short\n",
      "010-111-1234\n",
      "0 1 2 3 4 5 6 7 8 9 "
     ]
    }
   ],
   "source": [
    "'''\n",
    "Print\n",
    "Print(object(s), sep=separator, end=end, file=file, flush=flush)\n",
    "\n",
    "sep=문자열 구분 (디폴트=\"\")\n",
    "end=문자열 뒤에 어떤 문자가 들어갈지? (디폴트=\"\\n\")\n",
    "\n",
    "'''\n",
    "print(\"life\", \"is\", \"too short\")\n",
    "print(\"010\", \"111\", \"1234\", sep=\"-\")\n",
    "\n",
    "for i in range(10):\n",
    "    print(i, end=\" \")"
   ]
  },
  {
   "cell_type": "code",
   "execution_count": null,
   "metadata": {},
   "outputs": [],
   "source": []
  }
 ],
 "metadata": {
  "kernelspec": {
   "display_name": "Python 3",
   "language": "python",
   "name": "python3"
  },
  "language_info": {
   "codemirror_mode": {
    "name": "ipython",
    "version": 3
   },
   "file_extension": ".py",
   "mimetype": "text/x-python",
   "name": "python",
   "nbconvert_exporter": "python",
   "pygments_lexer": "ipython3",
   "version": "3.8.3"
  }
 },
 "nbformat": 4,
 "nbformat_minor": 4
}
