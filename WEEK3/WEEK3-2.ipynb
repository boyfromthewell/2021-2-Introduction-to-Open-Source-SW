{
 "cells": [
  {
   "cell_type": "code",
   "execution_count": 11,
   "metadata": {},
   "outputs": [],
   "source": [
    "'''\n",
    "File handling\n",
    "'''\n",
    "\n",
    "#File open\n",
    "\n",
    "#Write Files\n",
    "f=open(\"new_file.txt\", \"w\")\n",
    "for i in range(1,11):\n",
    "    data=\"This is line %d.\\n\"%i\n",
    "    f.write(data)\n",
    "f.close()\n"
   ]
  },
  {
   "cell_type": "code",
   "execution_count": 12,
   "metadata": {},
   "outputs": [
    {
     "name": "stdout",
     "output_type": "stream",
     "text": [
      "This is line 1.\n",
      "\n"
     ]
    }
   ],
   "source": [
    "f=open(\"new_file.txt\", \"r\") #파일 읽기\n",
    "line=f.readline()\n",
    "print(line)\n",
    "f.close()"
   ]
  },
  {
   "cell_type": "code",
   "execution_count": 13,
   "metadata": {},
   "outputs": [
    {
     "name": "stdout",
     "output_type": "stream",
     "text": [
      "This is line 1.\n",
      "\n",
      "This is line 2.\n",
      "\n",
      "This is line 3.\n",
      "\n",
      "This is line 4.\n",
      "\n",
      "This is line 5.\n",
      "\n",
      "This is line 6.\n",
      "\n",
      "This is line 7.\n",
      "\n",
      "This is line 8.\n",
      "\n",
      "This is line 9.\n",
      "\n",
      "This is line 10.\n",
      "\n"
     ]
    }
   ],
   "source": [
    "f=open(\"new_file.txt\", \"r\")\n",
    "while True:\n",
    "    line=f.readline()\n",
    "    if not line: break\n",
    "    print(line)\n",
    "f.close()"
   ]
  },
  {
   "cell_type": "code",
   "execution_count": 14,
   "metadata": {},
   "outputs": [
    {
     "name": "stdout",
     "output_type": "stream",
     "text": [
      "This is line 1.\n",
      "\n",
      "This is line 2.\n",
      "\n",
      "This is line 3.\n",
      "\n",
      "This is line 4.\n",
      "\n",
      "This is line 5.\n",
      "\n",
      "This is line 6.\n",
      "\n",
      "This is line 7.\n",
      "\n",
      "This is line 8.\n",
      "\n",
      "This is line 9.\n",
      "\n",
      "This is line 10.\n",
      "\n"
     ]
    }
   ],
   "source": [
    "f=open(\"new_file.txt\", \"r\")\n",
    "lines=f.readlines()\n",
    "for line in lines:\n",
    "    print(line)\n",
    "f.close()"
   ]
  },
  {
   "cell_type": "code",
   "execution_count": 15,
   "metadata": {},
   "outputs": [
    {
     "name": "stdout",
     "output_type": "stream",
     "text": [
      "This is line 1.\n",
      "This is line 2.\n",
      "This is line 3.\n",
      "This is line 4.\n",
      "This is line 5.\n",
      "This is line 6.\n",
      "This is line 7.\n",
      "This is line 8.\n",
      "This is line 9.\n",
      "This is line 10.\n",
      "\n"
     ]
    }
   ],
   "source": [
    "f=open(\"new_file.txt\", \"r\")\n",
    "data=f.read()\n",
    "print(data)\n",
    "f.close() #read() : 한번에 문자열로 불러옴"
   ]
  },
  {
   "cell_type": "code",
   "execution_count": 17,
   "metadata": {},
   "outputs": [
    {
     "name": "stdout",
     "output_type": "stream",
     "text": [
      "This is line 1.\n",
      "\n",
      "This is line 2.\n",
      "\n",
      "This is line 3.\n",
      "\n",
      "This is line 4.\n",
      "\n",
      "This is line 5.\n",
      "\n",
      "This is line 6.\n",
      "\n",
      "This is line 7.\n",
      "\n",
      "This is line 8.\n",
      "\n",
      "This is line 9.\n",
      "\n",
      "This is line 10.\n",
      "\n",
      "This is line 11.\n",
      "\n",
      "This is line 12.\n",
      "\n",
      "This is line 13.\n",
      "\n",
      "This is line 14.\n",
      "\n",
      "This is line 15.\n",
      "\n",
      "This is line 16.\n",
      "\n",
      "This is line 17.\n",
      "\n",
      "This is line 18.\n",
      "\n",
      "This is line 19.\n",
      "\n",
      "This is line 20.\n",
      "\n",
      "This is line 11.\n",
      "\n",
      "This is line 12.\n",
      "\n",
      "This is line 13.\n",
      "\n",
      "This is line 14.\n",
      "\n",
      "This is line 15.\n",
      "\n",
      "This is line 16.\n",
      "\n",
      "This is line 17.\n",
      "\n",
      "This is line 18.\n",
      "\n",
      "This is line 19.\n",
      "\n",
      "This is line 20.\n",
      "\n"
     ]
    }
   ],
   "source": [
    "f=open(\"new_file.txt\", \"a\") #기존 내용 유지하면서 내용 추가\n",
    "for i in range(11,21):\n",
    "    data=\"This is line %d.\\n\"%i\n",
    "    f.write(data)\n",
    "f.close()\n",
    "\n",
    "f=open(\"new_file.txt\", \"r\")\n",
    "lines=f.readlines()\n",
    "for line in lines:\n",
    "    print(line)\n",
    "f.close()"
   ]
  },
  {
   "cell_type": "code",
   "execution_count": 18,
   "metadata": {},
   "outputs": [],
   "source": [
    "'''\n",
    "Class\n",
    "'''\n",
    "#Class & Object\n",
    "# - A class is like an object constructor, or a “blueprint” for creating objects\n",
    "# - For example, a cooking mold is like a class and cookies made by a cooking mold are objects\n",
    "\n",
    "class Cookie:\n",
    "    pass\n",
    "\n",
    "a=Cookie()\n",
    "b=Cookie()\n"
   ]
  },
  {
   "cell_type": "code",
   "execution_count": 20,
   "metadata": {},
   "outputs": [
    {
     "data": {
      "text/plain": [
       "__main__.FourCal"
      ]
     },
     "execution_count": 20,
     "metadata": {},
     "output_type": "execute_result"
    }
   ],
   "source": [
    "'''\n",
    "Object vs Instance\n",
    "- Instance is an individual object of a certain class\n",
    "- For example, an object a that belongs to a class Cookie is an instance of the class Cookie\n",
    "\n",
    "a = Cookie() # a is an object and an object a is an instance of Cookie (a는 쿠키 클래스의 인스턴스이다)\n",
    "'''\n",
    "\n",
    "class FourCal:\n",
    "    pass\n",
    "\n",
    "a=FourCal()\n",
    "type(a)\n"
   ]
  },
  {
   "cell_type": "code",
   "execution_count": 29,
   "metadata": {},
   "outputs": [
    {
     "name": "stdout",
     "output_type": "stream",
     "text": [
      "4\n",
      "3\n",
      "140710967719808\n",
      "140710967719776\n"
     ]
    }
   ],
   "source": [
    "class FourCal:\n",
    "    def setdata(self, first, second): # using setter\n",
    "        self.first=first\n",
    "        self.second=second\n",
    "\n",
    "a=FourCal()\n",
    "a.setdata(4,2) # a = self parameter\n",
    "print(a.first)\n",
    "\n",
    "b=FourCal()\n",
    "b.setdata(3,7)\n",
    "print(b.first)\n",
    "\n",
    "print(id(a.first))\n",
    "print(id(b.first)) # 서로 다른위치에 저장, 인스턴스는 object고유의 값"
   ]
  },
  {
   "cell_type": "code",
   "execution_count": 31,
   "metadata": {},
   "outputs": [
    {
     "name": "stdout",
     "output_type": "stream",
     "text": [
      "6\n"
     ]
    }
   ],
   "source": [
    "class FourCal:\n",
    "    def setdata(self, first, second):\n",
    "        self.first=first\n",
    "        self.second=second\n",
    "    def add(self):\n",
    "        result=self.first+self.second\n",
    "        return result\n",
    "\n",
    "a=FourCal()\n",
    "a.setdata(4,2)\n",
    "print(a.add())"
   ]
  },
  {
   "cell_type": "code",
   "execution_count": 35,
   "metadata": {},
   "outputs": [
    {
     "name": "stdout",
     "output_type": "stream",
     "text": [
      "6\n",
      "8\n",
      "2.0\n",
      "11\n",
      "-5\n"
     ]
    }
   ],
   "source": [
    "class FourCal:\n",
    "    def setdata(self, first, second):\n",
    "        self.first=first\n",
    "        self.second=second\n",
    "    def add(self):\n",
    "        result=self.first+self.second\n",
    "        return result\n",
    "    def mul(self):\n",
    "        result=self.first*self.second\n",
    "        return result\n",
    "    def sub(self):\n",
    "        result=self.first-self.second\n",
    "        return result\n",
    "    def div(self):\n",
    "        result=self.first/self.second\n",
    "        return result\n",
    "a=FourCal()\n",
    "b=FourCal()\n",
    "a.setdata(4,2)\n",
    "b.setdata(3,8)\n",
    "\n",
    "print(a.add())\n",
    "print(a.mul())\n",
    "print(a.div())\n",
    "print(b.add())\n",
    "print(b.sub())"
   ]
  },
  {
   "cell_type": "code",
   "execution_count": 45,
   "metadata": {},
   "outputs": [
    {
     "name": "stdout",
     "output_type": "stream",
     "text": [
      "4\n",
      "2\n",
      "6\n",
      "2\n",
      "16\n",
      "0\n"
     ]
    }
   ],
   "source": [
    "# __init__() method\n",
    "\n",
    "class FourCal:\n",
    "    def __init__(self,first,second):\n",
    "        self.first=first\n",
    "        self.second=second\n",
    "    def setdata(self, first, second):\n",
    "        self.first=first\n",
    "        self.second=second\n",
    "    def add(self):\n",
    "        result=self.first+self.second\n",
    "        return result\n",
    "    def mul(self):\n",
    "        result=self.first*self.second\n",
    "        return result\n",
    "    def sub(self):\n",
    "        result=self.first-self.second\n",
    "        return result\n",
    "    def div(self):\n",
    "        result=self.first/self.second\n",
    "        return result\n",
    "    \n",
    "a=FourCal(4,2)\n",
    "print(a.first)\n",
    "print(a.second)\n",
    "\n",
    "print(a.add()) #setter 없이도 가능\n",
    "\n",
    "#Inheritance\n",
    "\n",
    "class MoreFourCal(FourCal):\n",
    "    def pow(self):\n",
    "        result=self.first**self.second\n",
    "        return result\n",
    "\n",
    "b=MoreFourCal(4,2)\n",
    "print(b.sub())\n",
    "print(b.pow())\n",
    "\n",
    "#Overriding Method\n",
    "\n",
    "class safeFourCal(FourCal):\n",
    "    def div(self):\n",
    "        if self.second==0:\n",
    "            return 0\n",
    "        else:\n",
    "            return self.first/self.second\n",
    "        \n",
    "a=safeFourCal(4,0)\n",
    "print(a.div())"
   ]
  },
  {
   "cell_type": "code",
   "execution_count": 47,
   "metadata": {},
   "outputs": [
    {
     "name": "stdout",
     "output_type": "stream",
     "text": [
      "Kim\n",
      "Kim\n",
      "Kim\n",
      "Park\n",
      "Park\n"
     ]
    }
   ],
   "source": [
    "#class Variable\n",
    "\n",
    "class Family:\n",
    "    lastname=\"Kim\" # class variable\n",
    "\n",
    "print(Family.lastname)\n",
    "a=Family()\n",
    "b=Family()\n",
    "print(a.lastname)\n",
    "print(b.lastname)\n",
    "\n",
    "Family.lastname=\"Park\"\n",
    "print(a.lastname)\n",
    "print(b.lastname)\n"
   ]
  },
  {
   "cell_type": "code",
   "execution_count": null,
   "metadata": {},
   "outputs": [],
   "source": []
  }
 ],
 "metadata": {
  "kernelspec": {
   "display_name": "Python 3",
   "language": "python",
   "name": "python3"
  },
  "language_info": {
   "codemirror_mode": {
    "name": "ipython",
    "version": 3
   },
   "file_extension": ".py",
   "mimetype": "text/x-python",
   "name": "python",
   "nbconvert_exporter": "python",
   "pygments_lexer": "ipython3",
   "version": "3.8.3"
  }
 },
 "nbformat": 4,
 "nbformat_minor": 4
}
