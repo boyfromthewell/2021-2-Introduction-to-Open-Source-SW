{
 "cells": [
  {
   "cell_type": "code",
   "execution_count": 6,
   "metadata": {},
   "outputs": [
    {
     "name": "stdout",
     "output_type": "stream",
     "text": [
      "<class 'int'>\n"
     ]
    }
   ],
   "source": [
    "'''\n",
    "Python Data Types\n",
    "\n",
    "Text type : str\n",
    "Numeric Type: int, float, complex\n",
    "sequence type: list, tuple, range\n",
    "Mapping Type: dict\n",
    "Set Types: set, frozenset\n",
    "Boolean Type: bool\n",
    "\n",
    "'''\n",
    "x=5\n",
    "print(type(x)) # type() -> 데이터 타입 얻어오기"
   ]
  },
  {
   "cell_type": "code",
   "execution_count": 7,
   "metadata": {},
   "outputs": [
    {
     "data": {
      "text/plain": [
       "81"
      ]
     },
     "execution_count": 7,
     "metadata": {},
     "output_type": "execute_result"
    }
   ],
   "source": [
    "'''\n",
    "Aritmetic operators\n",
    "'''\n",
    "# 제곱\n",
    "a=3\n",
    "b=4\n",
    "a**b"
   ]
  },
  {
   "cell_type": "code",
   "execution_count": 9,
   "metadata": {},
   "outputs": [
    {
     "data": {
      "text/plain": [
       "1"
      ]
     },
     "execution_count": 9,
     "metadata": {},
     "output_type": "execute_result"
    }
   ],
   "source": [
    "#나머지\n",
    "7%3"
   ]
  },
  {
   "cell_type": "code",
   "execution_count": 10,
   "metadata": {},
   "outputs": [
    {
     "data": {
      "text/plain": [
       "1"
      ]
     },
     "execution_count": 10,
     "metadata": {},
     "output_type": "execute_result"
    }
   ],
   "source": [
    "#몪만 구하기\n",
    "7//4"
   ]
  },
  {
   "cell_type": "code",
   "execution_count": 11,
   "metadata": {},
   "outputs": [
    {
     "name": "stdout",
     "output_type": "stream",
     "text": [
      "\n",
      "Life is too short\n",
      "You need python\n",
      "\n"
     ]
    }
   ],
   "source": [
    "'''\n",
    "String\n",
    "'''\n",
    "\n",
    "multiline='''\n",
    "Life is too short \n",
    "You need python\n",
    "'''# 긴 스트링도 줄바꿈까지 저장가능\n",
    "\n",
    "print(multiline)"
   ]
  },
  {
   "cell_type": "code",
   "execution_count": 12,
   "metadata": {},
   "outputs": [
    {
     "data": {
      "text/plain": [
       "'python is fun!'"
      ]
     },
     "execution_count": 12,
     "metadata": {},
     "output_type": "execute_result"
    }
   ],
   "source": [
    "'''\n",
    "String 연산\n",
    "'''\n",
    "head=\"python\"\n",
    "tail=\" is fun!\"\n",
    "head+tail"
   ]
  },
  {
   "cell_type": "code",
   "execution_count": 13,
   "metadata": {},
   "outputs": [
    {
     "data": {
      "text/plain": [
       "'pythonpython'"
      ]
     },
     "execution_count": 13,
     "metadata": {},
     "output_type": "execute_result"
    }
   ],
   "source": [
    "a='python'\n",
    "a*2"
   ]
  },
  {
   "cell_type": "code",
   "execution_count": 14,
   "metadata": {},
   "outputs": [
    {
     "name": "stdout",
     "output_type": "stream",
     "text": [
      "==================================================\n",
      "My program\n",
      "==================================================\n"
     ]
    }
   ],
   "source": [
    "print(\"=\" * 50)\n",
    "print(\"My program\")\n",
    "print(\"=\" * 50)"
   ]
  },
  {
   "cell_type": "code",
   "execution_count": 15,
   "metadata": {},
   "outputs": [
    {
     "data": {
      "text/plain": [
       "17"
      ]
     },
     "execution_count": 15,
     "metadata": {},
     "output_type": "execute_result"
    }
   ],
   "source": [
    "#String Length (len())\n",
    "a=\"life is too short\"\n",
    "len(a)"
   ]
  },
  {
   "cell_type": "code",
   "execution_count": 18,
   "metadata": {},
   "outputs": [
    {
     "name": "stdout",
     "output_type": "stream",
     "text": [
      "e\n",
      "n\n",
      "l o\n"
     ]
    }
   ],
   "source": [
    "#String index\n",
    "a=\"life is too short, you need Python\"\n",
    "\n",
    "b=a[3]\n",
    "print(b)\n",
    "\n",
    "c=a[-1]\n",
    "print(c) # 파이썬은 맨 마지막 문자열 인덱스 : -1\n",
    "d=a[-0]\n",
    "e=a[-2]\n",
    "print(d,e)"
   ]
  },
  {
   "cell_type": "code",
   "execution_count": 23,
   "metadata": {},
   "outputs": [
    {
     "name": "stdout",
     "output_type": "stream",
     "text": [
      "Life\n",
      "Life is too short\n",
      "You need Python\n",
      "You need\n"
     ]
    }
   ],
   "source": [
    "# String Slicing\n",
    "a=\"Life is too short, You need Python\"\n",
    "ex1=a[0:4] #4번 인덱스는 제외 0~3 인덱스만!!\n",
    "print(ex1)\n",
    "\n",
    "ex2=a[:17]\n",
    "print(ex2)\n",
    "\n",
    "ex3=a[19:]\n",
    "print(ex3)\n",
    "\n",
    "ex4=a[19:-7]\n",
    "print(ex4) #19번째 인덱스부터 뒤에서 -7번째 인덱스 까지"
   ]
  },
  {
   "cell_type": "code",
   "execution_count": 24,
   "metadata": {},
   "outputs": [
    {
     "name": "stdout",
     "output_type": "stream",
     "text": [
      "I eat 3 apples.\n"
     ]
    }
   ],
   "source": [
    "'''\n",
    "String formatting\n",
    "%s - String\n",
    "%c - character\n",
    "%d - integer\n",
    "%f - floating-point\n",
    "%% - literal %\n",
    "'''\n",
    "\n",
    "ex1=\"I eat %d apples.\"%3\n",
    "print(ex1)"
   ]
  },
  {
   "cell_type": "code",
   "execution_count": 25,
   "metadata": {},
   "outputs": [
    {
     "data": {
      "text/plain": [
       "'I ate 10 apples. so I was sick for three days.'"
      ]
     },
     "execution_count": 25,
     "metadata": {},
     "output_type": "execute_result"
    }
   ],
   "source": [
    "number=10\n",
    "day=\"three\"\n",
    "\"I ate %d apples. so I was sick for %s days.\"%(number, day)"
   ]
  },
  {
   "cell_type": "code",
   "execution_count": 26,
   "metadata": {},
   "outputs": [
    {
     "data": {
      "text/plain": [
       "'I eat 3 apples'"
      ]
     },
     "execution_count": 26,
     "metadata": {},
     "output_type": "execute_result"
    }
   ],
   "source": [
    "#format function (간단한 format 방법)\n",
    "\"I eat {0} apples\".format(3)"
   ]
  },
  {
   "cell_type": "code",
   "execution_count": 27,
   "metadata": {},
   "outputs": [
    {
     "name": "stdout",
     "output_type": "stream",
     "text": [
      "I ate 10 apples, so I was sick for three days.\n",
      "I ate 10 apples, so I was sick for 3 days.\n",
      "I ate 14 apples, so I was sick for 5 days.\n"
     ]
    }
   ],
   "source": [
    "number=10\n",
    "day=\"three\"\n",
    "ex1=\"I ate {0} apples, so I was sick for {1} days.\".format(number, day)\n",
    "print(ex1)\n",
    "\n",
    "ex2=\"I ate {number} apples, so I was sick for {day} days.\".format(number=10, day=3)\n",
    "print(ex2)\n",
    "\n",
    "ex3=\"I ate {0} apples, so I was sick for {day} days.\".format(14, day=5)\n",
    "print(ex3)"
   ]
  },
  {
   "cell_type": "code",
   "execution_count": 28,
   "metadata": {},
   "outputs": [
    {
     "data": {
      "text/plain": [
       "2"
      ]
     },
     "execution_count": 28,
     "metadata": {},
     "output_type": "execute_result"
    }
   ],
   "source": [
    "#string methods\n",
    "\n",
    "a=\"hobby\"\n",
    "a.count('b')"
   ]
  },
  {
   "cell_type": "code",
   "execution_count": 30,
   "metadata": {},
   "outputs": [
    {
     "data": {
      "text/plain": [
       "'a,b,c,d'"
      ]
     },
     "execution_count": 30,
     "metadata": {},
     "output_type": "execute_result"
    }
   ],
   "source": [
    "\",\".join('abcd') # join() = 문자열 사이에 지정 문자 집어넣어주는 함수"
   ]
  },
  {
   "cell_type": "code",
   "execution_count": 31,
   "metadata": {},
   "outputs": [
    {
     "data": {
      "text/plain": [
       "-1"
      ]
     },
     "execution_count": 31,
     "metadata": {},
     "output_type": "execute_result"
    }
   ],
   "source": [
    "#find(), index() 차이\n",
    "\n",
    "a=\"python is the best choice\"\n",
    "a.find('k')\n",
    "\n",
    "#index 함수는 찾지못하면-> 오류발생"
   ]
  },
  {
   "cell_type": "code",
   "execution_count": 32,
   "metadata": {},
   "outputs": [
    {
     "data": {
      "text/plain": [
       "'Your leg is too short'"
      ]
     },
     "execution_count": 32,
     "metadata": {},
     "output_type": "execute_result"
    }
   ],
   "source": [
    "'''\n",
    "upper() -> 대문자로 바꿈\n",
    "lower() -> 소문자로 바꿈\n",
    "lstrip() -> 왼쪽 공백 없애줌\n",
    "rstrip() -> 오른쪽 공백 없애줌\n",
    "'''\n",
    "#replace()\n",
    "a=\"Life is too short\"\n",
    "a.replace(\"Life\", \"Your leg\") #특정 문자 교체"
   ]
  },
  {
   "cell_type": "code",
   "execution_count": 35,
   "metadata": {},
   "outputs": [
    {
     "name": "stdout",
     "output_type": "stream",
     "text": [
      "['Life', 'is', 'too', 'short']\n",
      "['a', 'b', 'c', 'd']\n"
     ]
    }
   ],
   "source": [
    "#split()\n",
    "\n",
    "a=\"Life is too short\"\n",
    "print(a.split()) #지정 안하면 공백 단위로 나눔\n",
    "b=\"a:b:c:d\"\n",
    "print(b.split(':'))"
   ]
  },
  {
   "cell_type": "code",
   "execution_count": null,
   "metadata": {},
   "outputs": [],
   "source": []
  }
 ],
 "metadata": {
  "kernelspec": {
   "display_name": "Python 3",
   "language": "python",
   "name": "python3"
  },
  "language_info": {
   "codemirror_mode": {
    "name": "ipython",
    "version": 3
   },
   "file_extension": ".py",
   "mimetype": "text/x-python",
   "name": "python",
   "nbconvert_exporter": "python",
   "pygments_lexer": "ipython3",
   "version": "3.8.3"
  }
 },
 "nbformat": 4,
 "nbformat_minor": 4
}
