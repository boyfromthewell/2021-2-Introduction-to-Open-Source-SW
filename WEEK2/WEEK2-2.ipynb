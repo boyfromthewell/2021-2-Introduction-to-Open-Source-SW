{
 "cells": [
  {
   "cell_type": "code",
   "execution_count": 1,
   "metadata": {},
   "outputs": [],
   "source": [
    "# List \n",
    "\n",
    "a=[]\n",
    "b=[1,2,3]\n",
    "c=['Life', 'is', 'too', 'short']\n",
    "d=[1,2,'Life',' is']\n",
    "e=[1,2,['Life', 'is']]\n",
    "\n",
    "#  다른언어의 배열과 다르게 숫자나, 문자열 다 가능"
   ]
  },
  {
   "cell_type": "code",
   "execution_count": 3,
   "metadata": {},
   "outputs": [
    {
     "name": "stdout",
     "output_type": "stream",
     "text": [
      "[1, 2, 3, 4, 5, 6]\n"
     ]
    }
   ],
   "source": [
    "# add list\n",
    "a=[1,2,3]\n",
    "b=[4,5,6]\n",
    "ex1=a+b\n",
    "print(ex1)"
   ]
  },
  {
   "cell_type": "code",
   "execution_count": 4,
   "metadata": {},
   "outputs": [
    {
     "data": {
      "text/plain": [
       "[1, 2, 4]"
      ]
     },
     "execution_count": 4,
     "metadata": {},
     "output_type": "execute_result"
    }
   ],
   "source": [
    "#change list\n",
    "a=[1,2,3]\n",
    "a[2]=4\n",
    "a"
   ]
  },
  {
   "cell_type": "code",
   "execution_count": 5,
   "metadata": {},
   "outputs": [
    {
     "data": {
      "text/plain": [
       "[1, 3]"
      ]
     },
     "execution_count": 5,
     "metadata": {},
     "output_type": "execute_result"
    }
   ],
   "source": [
    "#delete list\n",
    "a=[1,2,3]\n",
    "del a[1]\n",
    "a"
   ]
  },
  {
   "cell_type": "code",
   "execution_count": 9,
   "metadata": {},
   "outputs": [
    {
     "data": {
      "text/plain": [
       "[1, 2, 3, 4]"
      ]
     },
     "execution_count": 9,
     "metadata": {},
     "output_type": "execute_result"
    }
   ],
   "source": [
    "#list methods\n",
    "\n",
    "#append() = 리스트 항목추가\n",
    "\n",
    "a=[1,2,3]\n",
    "a.append(4)\n",
    "a "
   ]
  },
  {
   "cell_type": "code",
   "execution_count": 10,
   "metadata": {},
   "outputs": [
    {
     "data": {
      "text/plain": [
       "[1, 2, 3, 4]"
      ]
     },
     "execution_count": 10,
     "metadata": {},
     "output_type": "execute_result"
    }
   ],
   "source": [
    "a=[1,4,3,2]\n",
    "a.sort()\n",
    "a #리스트 정렬 (오름차순, 문자열도 가능)"
   ]
  },
  {
   "cell_type": "code",
   "execution_count": 14,
   "metadata": {},
   "outputs": [
    {
     "name": "stdout",
     "output_type": "stream",
     "text": [
      "['c', 'b', 'a']\n",
      "['b', 'c', 'a']\n"
     ]
    }
   ],
   "source": [
    "# 내림차순 정렬\n",
    "\n",
    "a=['a','c','b']\n",
    "a.sort(reverse=True)\n",
    "print(a)\n",
    "\n",
    "# 그냥 거꾸로\n",
    "\n",
    "b=['a','c','b']\n",
    "b.reverse()\n",
    "print(b)"
   ]
  },
  {
   "cell_type": "code",
   "execution_count": 16,
   "metadata": {},
   "outputs": [
    {
     "name": "stdout",
     "output_type": "stream",
     "text": [
      "2\n",
      "0\n"
     ]
    }
   ],
   "source": [
    "# return index\n",
    "a=[1,2,3]\n",
    "print(a.index(3))\n",
    "print(a.index(1))"
   ]
  },
  {
   "cell_type": "code",
   "execution_count": 17,
   "metadata": {},
   "outputs": [
    {
     "data": {
      "text/plain": [
       "[4, 1, 2, 3]"
      ]
     },
     "execution_count": 17,
     "metadata": {},
     "output_type": "execute_result"
    }
   ],
   "source": [
    "#insert items\n",
    "a=[1,2,3]\n",
    "a.insert(0,4) #insert(원하는 인덱스, 값)\n",
    "a"
   ]
  },
  {
   "cell_type": "code",
   "execution_count": 18,
   "metadata": {},
   "outputs": [
    {
     "data": {
      "text/plain": [
       "[1, 2, 1, 2, 3]"
      ]
     },
     "execution_count": 18,
     "metadata": {},
     "output_type": "execute_result"
    }
   ],
   "source": [
    "#remove item\n",
    "a=[1,2,3,1,2,3]\n",
    "a.remove(3) #모든 3 제거 x, 먼저 나오는 값만 제거\n",
    "a "
   ]
  },
  {
   "cell_type": "code",
   "execution_count": 19,
   "metadata": {},
   "outputs": [
    {
     "data": {
      "text/plain": [
       "[1, 2]"
      ]
     },
     "execution_count": 19,
     "metadata": {},
     "output_type": "execute_result"
    }
   ],
   "source": [
    "# pop() = 맨마지막 item 제거\n",
    "a=[1,2,3]\n",
    "a.pop()\n",
    "a "
   ]
  },
  {
   "cell_type": "code",
   "execution_count": 20,
   "metadata": {},
   "outputs": [
    {
     "data": {
      "text/plain": [
       "[1, 3]"
      ]
     },
     "execution_count": 20,
     "metadata": {},
     "output_type": "execute_result"
    }
   ],
   "source": [
    "a=[1,2,3]\n",
    "a.pop(1)\n",
    "a"
   ]
  },
  {
   "cell_type": "code",
   "execution_count": 21,
   "metadata": {},
   "outputs": [
    {
     "data": {
      "text/plain": [
       "2"
      ]
     },
     "execution_count": 21,
     "metadata": {},
     "output_type": "execute_result"
    }
   ],
   "source": [
    "#count()\n",
    "\n",
    "a=[1,2,3,1]\n",
    "a.count(1) #지정 아이템 개수 반환"
   ]
  },
  {
   "cell_type": "code",
   "execution_count": 22,
   "metadata": {},
   "outputs": [
    {
     "name": "stdout",
     "output_type": "stream",
     "text": [
      "[1, 2, 3, 4, 5]\n",
      "[1, 2, 3, 4, 5, 6, 7]\n"
     ]
    }
   ],
   "source": [
    "#extend() = append()와 다르게 리스트 안에 리스트가 들어가는거 x\n",
    "a=[1,2,3]\n",
    "a.extend([4,5])\n",
    "print(a)\n",
    "\n",
    "b=[6,7]\n",
    "a.extend(b)\n",
    "print(a)"
   ]
  },
  {
   "cell_type": "code",
   "execution_count": 23,
   "metadata": {},
   "outputs": [],
   "source": [
    "'''\n",
    "Tuple\n",
    "\n",
    "list와는 다르게 값을 바꾸거나 추가 삭제 불가능\n",
    "'''\n",
    "t1=()\n",
    "t2=(1,)\n",
    "t3=(1,2,3)\n",
    "t4=1,2,3\n",
    "t5=('a','b',('ab','cd'))"
   ]
  },
  {
   "cell_type": "code",
   "execution_count": 29,
   "metadata": {},
   "outputs": [
    {
     "data": {
      "text/plain": [
       "'1118'"
      ]
     },
     "execution_count": 29,
     "metadata": {},
     "output_type": "execute_result"
    }
   ],
   "source": [
    "'''\n",
    "Dictionary\n",
    "\n",
    "key:value 쌍으로 구성 \n",
    "'''\n",
    "dic={\n",
    "    'name':'pey',\n",
    "    'phone':'0123131',\n",
    "    'birth':'1118'\n",
    "} #key값으로 list 불가능\n",
    "\n",
    "dic['birth']"
   ]
  },
  {
   "cell_type": "code",
   "execution_count": 28,
   "metadata": {},
   "outputs": [
    {
     "name": "stdout",
     "output_type": "stream",
     "text": [
      "{1: 'a', 2: 'b'}\n",
      "{1: 'a', 2: 'b', 'name': 'pey'}\n",
      "{1: 'a', 2: 'b', 'name': 'pey', 3: [1, 2, 3]}\n",
      "{2: 'b', 'name': 'pey', 3: [1, 2, 3]}\n"
     ]
    }
   ],
   "source": [
    "a={1: 'a'}\n",
    "a[2]='b'\n",
    "print(a)\n",
    "\n",
    "a['name']='pey'\n",
    "print(a)\n",
    "\n",
    "a[3]=[1,2,3]\n",
    "print(a)\n",
    "\n",
    "#delete key\n",
    "del a[1]\n",
    "print(a)"
   ]
  },
  {
   "cell_type": "code",
   "execution_count": 30,
   "metadata": {},
   "outputs": [
    {
     "data": {
      "text/plain": [
       "'\\n딕셔너리 중복 key값 불가능\\nlist는 key값으로 사용 불가능(but, 튜플은 가능)\\n'"
      ]
     },
     "execution_count": 30,
     "metadata": {},
     "output_type": "execute_result"
    }
   ],
   "source": [
    "'''\n",
    "딕셔너리 중복 key값 불가능\n",
    "list는 key값으로 사용 불가능(but, 튜플은 가능)\n",
    "'''"
   ]
  },
  {
   "cell_type": "code",
   "execution_count": 33,
   "metadata": {},
   "outputs": [
    {
     "name": "stdout",
     "output_type": "stream",
     "text": [
      "dict_keys(['name', 'phone', 'birth'])\n",
      "name\n",
      "phone\n",
      "birth\n",
      "['name', 'phone', 'birth']\n"
     ]
    }
   ],
   "source": [
    "a={\n",
    "    'name':'pey',\n",
    "    'phone':'0123131',\n",
    "    'birth':'1118'\n",
    "}\n",
    "print(a.keys()) #key() = 모든 key값 반환\n",
    "\n",
    "for k in a.keys(): #for문도 가능\n",
    "    print(k)\n",
    "    \n",
    "print(list(a.keys())) #list로 형변환도 가능"
   ]
  },
  {
   "cell_type": "code",
   "execution_count": 35,
   "metadata": {},
   "outputs": [
    {
     "name": "stdout",
     "output_type": "stream",
     "text": [
      "dict_values(['pey', '0123131', '1118'])\n",
      "dict_items([('name', 'pey'), ('phone', '0123131'), ('birth', '1118')])\n"
     ]
    }
   ],
   "source": [
    "a={\n",
    "    'name':'pey',\n",
    "    'phone':'0123131',\n",
    "    'birth':'1118'\n",
    "}\n",
    "print(a.values()) #모든 value 값 반환\n",
    "\n",
    "print(a.items()) # 모든 key:value쌍을 튜플형태로 반환"
   ]
  },
  {
   "cell_type": "code",
   "execution_count": 36,
   "metadata": {},
   "outputs": [
    {
     "name": "stdout",
     "output_type": "stream",
     "text": [
      "pey\n",
      "0123131\n"
     ]
    }
   ],
   "source": [
    "a={\n",
    "    'name':'pey',\n",
    "    'phone':'0123131',\n",
    "    'birth':'1118'\n",
    "}\n",
    "print(a.get('name')) #get() = key값 넣으면 해당 value반환\n",
    "print(a.get('phone'))"
   ]
  },
  {
   "cell_type": "code",
   "execution_count": 37,
   "metadata": {},
   "outputs": [
    {
     "data": {
      "text/plain": [
       "True"
      ]
     },
     "execution_count": 37,
     "metadata": {},
     "output_type": "execute_result"
    }
   ],
   "source": [
    "a={\n",
    "    'name':'pey',\n",
    "    'phone':'0123131',\n",
    "    'birth':'1118'\n",
    "}\n",
    "'name' in a #check if key exists (in)"
   ]
  },
  {
   "cell_type": "code",
   "execution_count": 38,
   "metadata": {},
   "outputs": [
    {
     "name": "stdout",
     "output_type": "stream",
     "text": [
      "{1, 2, 3}\n",
      "{'l', 'e', 'H', 'o'}\n"
     ]
    }
   ],
   "source": [
    "'''\n",
    "Set (집합 자료형)\n",
    "\n",
    "순서 존재 x, 인덱스 존재x, 중복값 존재x\n",
    "'''\n",
    "s1=set([1,2,3])\n",
    "print(s1)\n",
    "\n",
    "s2=set(\"Hello\")\n",
    "print(s2)"
   ]
  },
  {
   "cell_type": "code",
   "execution_count": 41,
   "metadata": {},
   "outputs": [
    {
     "name": "stdout",
     "output_type": "stream",
     "text": [
      "{4, 5, 6}\n",
      "{4, 5, 6}\n",
      "{1, 2, 3, 4, 5, 6, 7, 8, 9}\n",
      "{1, 2, 3, 4, 5, 6, 7, 8, 9}\n",
      "{1, 2, 3}\n",
      "{8, 9, 7}\n",
      "{1, 2, 3}\n"
     ]
    }
   ],
   "source": [
    "# set-mathematics\n",
    "\n",
    "#intersection\n",
    "s1=set([1,2,3,4,5,6])\n",
    "s2=set([4,5,6,7,8,9])\n",
    "print(s1&s2)\n",
    "print(s1.intersection(s2))\n",
    "\n",
    "#Union\n",
    "print(s1|s2)\n",
    "print(s1.union(s2))\n",
    "\n",
    "#Difference\n",
    "print(s1-s2)\n",
    "print(s2-s1)\n",
    "print(s1.difference(s2))"
   ]
  },
  {
   "cell_type": "code",
   "execution_count": 43,
   "metadata": {},
   "outputs": [
    {
     "name": "stdout",
     "output_type": "stream",
     "text": [
      "{1, 2, 3, 4}\n",
      "{1, 2, 3, 4, 5, 6}\n",
      "{1, 3}\n"
     ]
    }
   ],
   "source": [
    "#add() =한개요소 삽입\n",
    "\n",
    "s1=set([1,2,3])\n",
    "s1.add(4)\n",
    "print(s1)\n",
    "\n",
    "#update() = 여러개 요소 삽입\n",
    "s1=set([1,2,3])\n",
    "s1.update([4,5,6])\n",
    "print(s1)\n",
    "\n",
    "#remove() =특정 요소 삭제\n",
    "s1=set([1,2,3])\n",
    "s1.remove(2)\n",
    "print(s1)"
   ]
  },
  {
   "cell_type": "code",
   "execution_count": 44,
   "metadata": {},
   "outputs": [
    {
     "name": "stdout",
     "output_type": "stream",
     "text": [
      "False\n",
      "True\n"
     ]
    }
   ],
   "source": [
    "'''\n",
    "Bool 자료형\n",
    "\n",
    "false인 경우\n",
    "\"\"\n",
    "[]\n",
    "()\n",
    "{}\n",
    "0\n",
    "None\n",
    "'''\n",
    "\n",
    "#bool() = true, false 여부 반환\n",
    "print(bool(\"\"))\n",
    "print(bool(\"1\"))"
   ]
  },
  {
   "cell_type": "code",
   "execution_count": 45,
   "metadata": {},
   "outputs": [
    {
     "name": "stdout",
     "output_type": "stream",
     "text": [
      "5\n",
      "3\n"
     ]
    }
   ],
   "source": [
    "a=3\n",
    "b=5\n",
    "a,b=b,a #swap 매우 쉽게 가능\n",
    "print(a)\n",
    "print(b)"
   ]
  },
  {
   "cell_type": "code",
   "execution_count": null,
   "metadata": {},
   "outputs": [],
   "source": []
  }
 ],
 "metadata": {
  "kernelspec": {
   "display_name": "Python 3",
   "language": "python",
   "name": "python3"
  },
  "language_info": {
   "codemirror_mode": {
    "name": "ipython",
    "version": 3
   },
   "file_extension": ".py",
   "mimetype": "text/x-python",
   "name": "python",
   "nbconvert_exporter": "python",
   "pygments_lexer": "ipython3",
   "version": "3.8.3"
  }
 },
 "nbformat": 4,
 "nbformat_minor": 4
}
