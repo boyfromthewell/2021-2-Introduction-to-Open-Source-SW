{
 "cells": [
  {
   "cell_type": "code",
   "execution_count": 12,
   "metadata": {},
   "outputs": [
    {
     "name": "stdout",
     "output_type": "stream",
     "text": [
      "Abel 01012345678\n",
      "Nenny 01098765432\n"
     ]
    }
   ],
   "source": [
    "'''\n",
    "ex1)Convert the first letter of the name to uppercase and remove '-' from the phone\n",
    "number. Print the following output.\n",
    "'''\n",
    "A=\"abel\"\n",
    "B=\"nenny\"\n",
    "numberA=\"010-1234-5678\"\n",
    "numberB=\"010-9876-5432\"\n",
    "a=numberA.replace(\"-\", \"\");\n",
    "b=numberB.replace(\"-\", \"\");\n",
    "\n",
    "print(A.capitalize(), a)\n",
    "print(B.capitalize(), b)"
   ]
  },
  {
   "cell_type": "code",
   "execution_count": 15,
   "metadata": {},
   "outputs": [
    {
     "name": "stdout",
     "output_type": "stream",
     "text": [
      "[1, 3, 5, 7, 9, 2, 4, 6, 8, 10]\n",
      "[10, 9, 8, 7, 6, 5, 4, 3, 2, 1]\n"
     ]
    }
   ],
   "source": [
    "'''\n",
    "ex2)Create an odd list and an even list from 1 to 10 using a range function as an input.\n",
    "And print these two lists. Then, create a new list by combining two lists and sort\n",
    "this new list in descending order.\n",
    "'''\n",
    "list1=[1,3,5,7,9]\n",
    "list2=[2,4,6,8,10]\n",
    "\n",
    "list3=list1+list2\n",
    "print(list3)\n",
    "\n",
    "list3.sort(reverse=True)\n",
    "print(list3)"
   ]
  },
  {
   "cell_type": "code",
   "execution_count": 24,
   "metadata": {},
   "outputs": [
    {
     "data": {
      "text/plain": [
       "(1, 2, 3, 'a')"
      ]
     },
     "execution_count": 24,
     "metadata": {},
     "output_type": "execute_result"
    }
   ],
   "source": [
    "'''\n",
    "ex3)Create two tuples x and y. Then, create a new tuple by combining these two\n",
    "tuples. Finally, drop the last item, ‘b’, through slicing the newly created tuple.\n",
    "'''\n",
    "x=(1,2,3)\n",
    "y=('a','b')\n",
    "\n",
    "z=x+y\n",
    "z[0:4]"
   ]
  },
  {
   "cell_type": "code",
   "execution_count": 34,
   "metadata": {},
   "outputs": [
    {
     "name": "stdout",
     "output_type": "stream",
     "text": [
      "dic = {'Kim': 'Math', 'Han': 'Art', 'Ahn': 'Physics'}\n",
      "dict_keys(['Kim', 'Han', 'Ahn'])\n",
      "dict_values(['Math', 'Art', 'Physics'])\n"
     ]
    }
   ],
   "source": [
    "'''\n",
    "ex4)Create a dictionary named dic. Then, delete the element whose key is 'Lee' and\n",
    "print the keys and values of this dictionary.\n",
    "'''\n",
    "dic={\n",
    "    'Kim':'Math',\n",
    "    'Lee':'English',\n",
    "    'Han':'Art',\n",
    "    'Ahn':'Physics'\n",
    "}\n",
    "del dic['Lee']\n",
    "print(\"dic =\",dic)\n",
    "print(dic.keys())\n",
    "print(dic.values())"
   ]
  },
  {
   "cell_type": "code",
   "execution_count": 10,
   "metadata": {},
   "outputs": [
    {
     "name": "stdout",
     "output_type": "stream",
     "text": [
      "input A: 5 5\n",
      "Input B: -5 -5\n",
      "origin symmetry\n"
     ]
    }
   ],
   "source": [
    "'''\n",
    "ex1)Write a program to find out what types of symmetry are between two points, such\n",
    "as the same points (같음), x-axis symmetry (x축 대칭), y-axis symmetry (y축 대칭),\n",
    "origin symmetry (원점 대칭), or nothing. Both the x- and y-coordinates are integer\n",
    "values. \n",
    "'''\n",
    "a=input(\"input A: \").split()\n",
    "b=input(\"Input B: \").split()\n",
    "\n",
    "a=list(map(int,a))\n",
    "b=list(map(int,b))\n",
    "\n",
    "x1=a[0]\n",
    "y1=a[1]\n",
    "x2=b[0]\n",
    "y2=b[1]\n",
    "\n",
    "if x1==x2 and y1==y2:\n",
    "    print(\"Same point\")\n",
    "elif y1==y2:\n",
    "    print(\"x-axis symmetry\")\n",
    "elif x1==x2:\n",
    "    print(\"y-axis symmetry\")\n",
    "elif  x1==-(x2) and y1==-(y2):\n",
    "    print(\"origin symmetry\")\n",
    "else:\n",
    "    print(\"nothing\")"
   ]
  },
  {
   "cell_type": "code",
   "execution_count": 156,
   "metadata": {},
   "outputs": [
    {
     "name": "stdout",
     "output_type": "stream",
     "text": [
      "input Time: 10:45\n",
      "10 : 15\n",
      "input Time: 09:30\n",
      "09 : 00\n",
      "input Time: 03:20\n",
      "02 : 50\n",
      "input Time: 11:10\n",
      "10 : 40\n",
      "input Time: 00:23\n",
      "23 : 53\n"
     ]
    },
    {
     "ename": "KeyboardInterrupt",
     "evalue": "Interrupted by user",
     "output_type": "error",
     "traceback": [
      "\u001b[1;31m---------------------------------------------------------------------------\u001b[0m",
      "\u001b[1;31mKeyboardInterrupt\u001b[0m                         Traceback (most recent call last)",
      "\u001b[1;32m<ipython-input-156-ec8c2dff4086>\u001b[0m in \u001b[0;36m<module>\u001b[1;34m\u001b[0m\n\u001b[0;32m      8\u001b[0m \u001b[1;33m\u001b[0m\u001b[0m\n\u001b[0;32m      9\u001b[0m \u001b[1;32mwhile\u001b[0m \u001b[1;32mTrue\u001b[0m\u001b[1;33m:\u001b[0m\u001b[1;33m\u001b[0m\u001b[1;33m\u001b[0m\u001b[0m\n\u001b[1;32m---> 10\u001b[1;33m     \u001b[0mtime\u001b[0m\u001b[1;33m=\u001b[0m\u001b[0minput\u001b[0m\u001b[1;33m(\u001b[0m\u001b[1;34m\"input Time: \"\u001b[0m\u001b[1;33m)\u001b[0m\u001b[1;33m.\u001b[0m\u001b[0msplit\u001b[0m\u001b[1;33m(\u001b[0m\u001b[1;34m\":\"\u001b[0m\u001b[1;33m)\u001b[0m\u001b[1;33m\u001b[0m\u001b[1;33m\u001b[0m\u001b[0m\n\u001b[0m\u001b[0;32m     11\u001b[0m \u001b[1;33m\u001b[0m\u001b[0m\n\u001b[0;32m     12\u001b[0m     \u001b[0mhh\u001b[0m\u001b[1;33m=\u001b[0m\u001b[0mint\u001b[0m\u001b[1;33m(\u001b[0m\u001b[0mtime\u001b[0m\u001b[1;33m[\u001b[0m\u001b[1;36m0\u001b[0m\u001b[1;33m]\u001b[0m\u001b[1;33m)\u001b[0m\u001b[1;33m\u001b[0m\u001b[1;33m\u001b[0m\u001b[0m\n",
      "\u001b[1;32mC:\\Anaconda3\\lib\\site-packages\\ipykernel\\kernelbase.py\u001b[0m in \u001b[0;36mraw_input\u001b[1;34m(self, prompt)\u001b[0m\n\u001b[0;32m    858\u001b[0m                 \u001b[1;34m\"raw_input was called, but this frontend does not support input requests.\"\u001b[0m\u001b[1;33m\u001b[0m\u001b[1;33m\u001b[0m\u001b[0m\n\u001b[0;32m    859\u001b[0m             )\n\u001b[1;32m--> 860\u001b[1;33m         return self._input_request(str(prompt),\n\u001b[0m\u001b[0;32m    861\u001b[0m             \u001b[0mself\u001b[0m\u001b[1;33m.\u001b[0m\u001b[0m_parent_ident\u001b[0m\u001b[1;33m,\u001b[0m\u001b[1;33m\u001b[0m\u001b[1;33m\u001b[0m\u001b[0m\n\u001b[0;32m    862\u001b[0m             \u001b[0mself\u001b[0m\u001b[1;33m.\u001b[0m\u001b[0m_parent_header\u001b[0m\u001b[1;33m,\u001b[0m\u001b[1;33m\u001b[0m\u001b[1;33m\u001b[0m\u001b[0m\n",
      "\u001b[1;32mC:\\Anaconda3\\lib\\site-packages\\ipykernel\\kernelbase.py\u001b[0m in \u001b[0;36m_input_request\u001b[1;34m(self, prompt, ident, parent, password)\u001b[0m\n\u001b[0;32m    902\u001b[0m             \u001b[1;32mexcept\u001b[0m \u001b[0mKeyboardInterrupt\u001b[0m\u001b[1;33m:\u001b[0m\u001b[1;33m\u001b[0m\u001b[1;33m\u001b[0m\u001b[0m\n\u001b[0;32m    903\u001b[0m                 \u001b[1;31m# re-raise KeyboardInterrupt, to truncate traceback\u001b[0m\u001b[1;33m\u001b[0m\u001b[1;33m\u001b[0m\u001b[1;33m\u001b[0m\u001b[0m\n\u001b[1;32m--> 904\u001b[1;33m                 \u001b[1;32mraise\u001b[0m \u001b[0mKeyboardInterrupt\u001b[0m\u001b[1;33m(\u001b[0m\u001b[1;34m\"Interrupted by user\"\u001b[0m\u001b[1;33m)\u001b[0m \u001b[1;32mfrom\u001b[0m \u001b[1;32mNone\u001b[0m\u001b[1;33m\u001b[0m\u001b[1;33m\u001b[0m\u001b[0m\n\u001b[0m\u001b[0;32m    905\u001b[0m             \u001b[1;32mexcept\u001b[0m \u001b[0mException\u001b[0m \u001b[1;32mas\u001b[0m \u001b[0me\u001b[0m\u001b[1;33m:\u001b[0m\u001b[1;33m\u001b[0m\u001b[1;33m\u001b[0m\u001b[0m\n\u001b[0;32m    906\u001b[0m                 \u001b[0mself\u001b[0m\u001b[1;33m.\u001b[0m\u001b[0mlog\u001b[0m\u001b[1;33m.\u001b[0m\u001b[0mwarning\u001b[0m\u001b[1;33m(\u001b[0m\u001b[1;34m\"Invalid Message:\"\u001b[0m\u001b[1;33m,\u001b[0m \u001b[0mexc_info\u001b[0m\u001b[1;33m=\u001b[0m\u001b[1;32mTrue\u001b[0m\u001b[1;33m)\u001b[0m\u001b[1;33m\u001b[0m\u001b[1;33m\u001b[0m\u001b[0m\n",
      "\u001b[1;31mKeyboardInterrupt\u001b[0m: Interrupted by user"
     ]
    }
   ],
   "source": [
    "'''\n",
    "ex2)Assume that your input value is the time on a clock that is 30 minutes fast.\n",
    "- The input value is a string, in the form of hh:mm\n",
    "- hh is range from 00 to 24, mm is range from 00 to 60\n",
    "Write a program that converts the input to the correct time.\n",
    "- The output is the form of hh:mm too\n",
    "'''\n",
    "\n",
    "while True:\n",
    "    time=input(\"input Time: \").split(\":\")\n",
    "\n",
    "    hh=int(time[0])\n",
    "    mm=int(time[1])\n",
    "\n",
    "    if mm-30>0:\n",
    "        if hh<10 and hh!=0:\n",
    "            print(\"0%d : %d\"%(hh, mm-30))\n",
    "        elif hh==0:\n",
    "            print(\"00 : %d\"%(mm-30))\n",
    "        else:\n",
    "            print(\"%d : %d\"%(hh, mm-30))\n",
    "    elif mm-30==0:\n",
    "        if hh<10 and hh!=0:\n",
    "            print(\"0%d : 0%d\"%(hh, mm-30))\n",
    "        elif hh==0:\n",
    "            print(\"00 : 0%d\"%(mm-30))\n",
    "        else:\n",
    "            print(\"%d : 0%d\"%(hh, mm-30))\n",
    "    elif mm-30<0:\n",
    "        if hh<10 and hh!=0:\n",
    "            print(\"0%d : %d\"%(hh-1, mm+30))\n",
    "        elif hh==0:\n",
    "            print(\"23 : %d\"%(mm+30))\n",
    "        else:\n",
    "            print(\"%d : %d\"%(hh-1, mm+30))"
   ]
  },
  {
   "cell_type": "code",
   "execution_count": 61,
   "metadata": {},
   "outputs": [
    {
     "name": "stdout",
     "output_type": "stream",
     "text": [
      "player1 가위 바위 보: 가위\n",
      "player2 가위 바위 보: 가위\n",
      "비겼습니다\n"
     ]
    }
   ],
   "source": [
    "'''\n",
    "ex3)Write the code to decide the winner of rock-paper-scissors.\n",
    "- The input is one of rock (“바위”), paper (“보“), or scissors (“가위”).\n",
    "- The output value is the winner or draw.\n",
    "'''\n",
    "\n",
    "player1=input(\"player1 가위 바위 보: \")\n",
    "player2=input(\"player2 가위 바위 보: \")\n",
    "\n",
    "if (player1=='가위' and player2=='보') or (player1=='바위' and player2=='가위') or (player1=='보' and player2=='바위'):\n",
    "    print(\"player1 승\")\n",
    "elif (player1=='가위' and player2=='바위') or (player1=='바위' and player2=='보') or (player1=='보' and player2=='가위'):\n",
    "    print(\"player2 승\")\n",
    "elif (player1=='가위' and player2=='가위') or (player1=='바위' and player2=='바위') or (player1=='보' and player2=='보'):\n",
    "    print(\"비겼습니다\")"
   ]
  },
  {
   "cell_type": "code",
   "execution_count": 127,
   "metadata": {},
   "outputs": [
    {
     "name": "stdout",
     "output_type": "stream",
     "text": [
      "1: Insert coin | 2: Item list | 3: Select Fruit | 4: Change Money | Q: exit\n",
      "Please select menu: 2\n",
      " \n",
      ":::::1 Orange 300 ::::: :::::2 Shine muscat 1000 :::::  \n",
      "1: Insert coin | 2: Item list | 3: Select Fruit | 4: Change Money | Q: exit\n",
      "Please select menu: 1\n",
      " \n",
      "How much money do you want to put in?300\n",
      "You insert 300 coins\n",
      "\n",
      "1: Insert coin | 2: Item list | 3: Select Fruit | 4: Change Money | Q: exit\n",
      "Please select menu: 3\n",
      " \n",
      "Which fruit do you want?1\n",
      "You get an Orange\n",
      "You have 0 coins\n",
      "\n",
      "1: Insert coin | 2: Item list | 3: Select Fruit | 4: Change Money | Q: exit\n",
      "Please select menu: 1\n",
      " \n",
      "How much money do you want to put in?350\n",
      "You insert 350 coins\n",
      "\n",
      "1: Insert coin | 2: Item list | 3: Select Fruit | 4: Change Money | Q: exit\n",
      "Please select menu: 4\n",
      " \n",
      "You get 350 coins back\n",
      "\n",
      "1: Insert coin | 2: Item list | 3: Select Fruit | 4: Change Money | Q: exit\n",
      "Please select menu: q\n",
      " \n",
      "End\n"
     ]
    }
   ],
   "source": [
    "'''\n",
    "ex1)Make a fruit vending machine by using “while loop” and “if statement”\n",
    "'''\n",
    "menuSelect=\"\"\n",
    "coins=0\n",
    "fruit={\n",
    "    \"Orange\":300,\n",
    "    \"Shine muscat\":1000\n",
    "}\n",
    "\n",
    "while True:\n",
    "    print(\"1: Insert coin | 2: Item list | 3: Select Fruit | 4: Change Money | Q: exit\")\n",
    "    menuSelect=input(\"Please select menu: \")\n",
    "    print(\" \")\n",
    "    if menuSelect == \"1\":\n",
    "        coins+=int(input(\"How much money do you want to put in?\"))\n",
    "        print(\"You insert %d coins\\n\"%coins)\n",
    "    elif menuSelect ==\"2\":\n",
    "        for index, (key, value) in enumerate(fruit.items()):\n",
    "            print(end=\":::::\")\n",
    "            print(index+1, key ,value, end=\" ::::: \")\n",
    "        print(\" \")\n",
    "    elif menuSelect==\"3\":\n",
    "        inputFruit=int(input(\"Which fruit do you want?\"))\n",
    "        fruitPrice=list(fruit.values())[inputFruit-1]\n",
    "        \n",
    "        print(\"You get an {}\".format(list(fruit.keys())[inputFruit-1]))\n",
    "        if fruitPrice>coins:\n",
    "            print(\"You don't have enough money!]n\")\n",
    "        else:\n",
    "            coins-=fruitPrice\n",
    "            print(\"You have {} coins\\n\".format(coins))\n",
    "    elif menuSelect==\"4\":\n",
    "        print(\"You get {} coins back\\n\".format(coins))\n",
    "        coins=0\n",
    "    elif menuSelect==\"Q\" or \"q\":\n",
    "        print(\"End\")\n",
    "        break"
   ]
  },
  {
   "cell_type": "code",
   "execution_count": 133,
   "metadata": {},
   "outputs": [
    {
     "name": "stdout",
     "output_type": "stream",
     "text": [
      "평균: 80.0\n",
      "분산: 180.0\n"
     ]
    }
   ],
   "source": [
    "'''\n",
    "ex2)Get the average (평균) and the variance (분산) of this list\n",
    "- Do not use any library\n",
    "'''\n",
    "\n",
    "grade=[100, 90, 80, 55, 95, 80, 65, 75, 70, 90]\n",
    "Sum=0\n",
    "vsum=0\n",
    "\n",
    "for i in grade:\n",
    "    Sum+=i\n",
    "ave=Sum/len(grade)\n",
    "\n",
    "for i in grade:\n",
    "    vsum+=(i-ave)**2\n",
    "vsum=vsum/len(grade)\n",
    "\n",
    "print(f\"평균: {ave}\")\n",
    "print(f\"분산: {vsum}\")"
   ]
  },
  {
   "cell_type": "code",
   "execution_count": 147,
   "metadata": {},
   "outputs": [
    {
     "name": "stdout",
     "output_type": "stream",
     "text": [
      "1번 학생은 55점으로 F입니다\n",
      "2번 학생은 90점으로 A입니다\n",
      "3번 학생은 89점으로 B입니다\n",
      "4번 학생은 76점으로 C입니다\n",
      "5번 학생은 37점으로 F입니다\n",
      "6번 학생은 100점으로 A입니다\n",
      "7번 학생은 67점으로 D입니다\n"
     ]
    }
   ],
   "source": [
    "'''\n",
    "ex3)Use range to implement the code that determines students' grades.\n",
    "A: 90 <= result[i] < 100\n",
    "B: 80 <= result[i] < 90\n",
    "C: 70 <= result[i] < 80\n",
    "D: 60 <= result[i] < 70\n",
    "F: result[i] <60\n",
    "'''\n",
    "\n",
    "grade=[55,90,89,76,37,100,67]\n",
    "student=1\n",
    "for i in range(len(grade)):\n",
    "    if grade[i]<=100 and grade[i]>=90:\n",
    "        print(\"%d번 학생은 %d점으로 A입니다\"%(student, grade[i]))\n",
    "    elif grade[i]<90 and grade[i]>=80:\n",
    "        print(\"%d번 학생은 %d점으로 B입니다\"%(student, grade[i]))\n",
    "    elif grade[i]<80 and grade[i]>=70:\n",
    "        print(\"%d번 학생은 %d점으로 C입니다\"%(student, grade[i]))\n",
    "    elif grade[i]<70 and grade[i]>=60:\n",
    "        print(\"%d번 학생은 %d점으로 D입니다\"%(student, grade[i]))\n",
    "    else:\n",
    "        print(\"%d번 학생은 %d점으로 F입니다\"%(student, grade[i]))\n",
    "    student+=1"
   ]
  },
  {
   "cell_type": "code",
   "execution_count": 154,
   "metadata": {},
   "outputs": [
    {
     "name": "stdout",
     "output_type": "stream",
     "text": [
      "[3, 2, 7, 13, 37] 5\n",
      "[4, 9, 18, 22, 6, 24, 12] 7\n"
     ]
    }
   ],
   "source": [
    "'''\n",
    "ex4)Find the number of prime numbers (소수) and composite numbers (합성수)\n",
    "- A list consists of natural numbers (자연수), a[i] > 1\n",
    "- There are no duplicate numbers in a list\n",
    "'''\n",
    "\n",
    "prime=[]\n",
    "composite=[]\n",
    "\n",
    "a=[4,3,2,9,7,18,22,13,6,24,37,12]\n",
    "\n",
    "def check_prime(n):\n",
    "    if(n == 1):\n",
    "        return False\n",
    "    elif (n == 2):\n",
    "        return True\n",
    "    else:\n",
    "        for i in range(2, n):\n",
    "            if(n % i == 0):\n",
    "                return False\n",
    "        return True\n",
    "\n",
    "for i in range(len(a)):\n",
    "    result=check_prime(a[i])\n",
    "    \n",
    "    if result==True:\n",
    "        prime.append(a[i])\n",
    "    else:\n",
    "        composite.append(a[i])\n",
    "\n",
    "print(prime, len(prime))\n",
    "print(composite, len(composite))\n"
   ]
  },
  {
   "cell_type": "code",
   "execution_count": 155,
   "metadata": {},
   "outputs": [
    {
     "name": "stdout",
     "output_type": "stream",
     "text": [
      "[1, 2, 5, 4, 6, 6, 7, 8, 9, 10]\n"
     ]
    }
   ],
   "source": [
    "'''\n",
    "ex5)Convert the 2-D list into the 1-D list.\n",
    "- must use only “list comprehension”\n",
    "'''\n",
    "\n",
    "list=[[1,2],[5,4],[6,6],[7,8],[9,10]]\n",
    "list2=[data for inner_list in list for data in inner_list]\n",
    "print(list2)"
   ]
  },
  {
   "cell_type": "code",
   "execution_count": null,
   "metadata": {},
   "outputs": [],
   "source": []
  }
 ],
 "metadata": {
  "kernelspec": {
   "display_name": "Python 3",
   "language": "python",
   "name": "python3"
  },
  "language_info": {
   "codemirror_mode": {
    "name": "ipython",
    "version": 3
   },
   "file_extension": ".py",
   "mimetype": "text/x-python",
   "name": "python",
   "nbconvert_exporter": "python",
   "pygments_lexer": "ipython3",
   "version": "3.8.3"
  }
 },
 "nbformat": 4,
 "nbformat_minor": 4
}
